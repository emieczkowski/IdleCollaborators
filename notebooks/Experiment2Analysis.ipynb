{
 "cells": [
  {
   "cell_type": "code",
   "execution_count": 1,
   "id": "047b0f84-385b-429a-adbb-03a1b2a01287",
   "metadata": {},
   "outputs": [],
   "source": [
    "import pandas as pd\n",
    "import json\n",
    "import os\n",
    "import seaborn as sns\n",
    "import matplotlib.pyplot as plt\n",
    "import statsmodels.formula.api as smf\n",
    "import numpy as np\n",
    "from scipy import stats\n",
    "import statsmodels.api as sm\n",
    "from statsmodels.sandbox.regression.predstd import wls_prediction_std\n",
    "import scipy.stats\n",
    "from statsmodels.stats.power import TTestIndPower\n",
    "import warnings\n",
    "from statsmodels.tools.sm_exceptions import ConvergenceWarning"
   ]
  },
  {
   "cell_type": "markdown",
   "id": "2c34f3ac-9787-4134-865f-f0905cf57cc2",
   "metadata": {},
   "source": [
    "# Data Preprocessing"
   ]
  },
  {
   "cell_type": "code",
   "execution_count": 2,
   "id": "6b07ba12-c6c8-4a3a-9ea3-2d7dee52c0e8",
   "metadata": {},
   "outputs": [],
   "source": [
    "def cleanup(data):\n",
    "    fields = data.strip().split(',')\n",
    "    fields = [field.strip('\"').replace('\\\\', '').replace('{', '').replace('}', '').replace(\"'\", '').replace(\"[\", '').replace(\"]\", '').replace('\"', '') for field in fields]\n",
    "    return fields"
   ]
  },
  {
   "cell_type": "code",
   "execution_count": 3,
   "id": "26611217-eabe-4f8a-bd32-3996d874f460",
   "metadata": {},
   "outputs": [],
   "source": [
    "def parseCSV(filepath):\n",
    "    processed_data = []\n",
    "\n",
    "    with open(filepath, 'r', encoding='utf-8') as file:\n",
    "        for i,subj_data in enumerate(file):\n",
    "\n",
    "            if i==0: continue # CSV headers\n",
    "\n",
    "            processed_subj = cleanup(subj_data)\n",
    "\n",
    "            subject_info = {\n",
    "                'worker': processed_subj[0],\n",
    "                'assignment': processed_subj[1],\n",
    "                'hit': processed_subj[2],\n",
    "                'version': processed_subj[3],\n",
    "                'timestamp': processed_subj[4]\n",
    "                }\n",
    "\n",
    "            img_responses = []\n",
    "            post_survey = {}\n",
    "            resp = None\n",
    "\n",
    "            for item in processed_subj[5:]:\n",
    "                if ':' in item:\n",
    "                    key, value = item.split(':', 1)\n",
    "\n",
    "                    if key == 'response':\n",
    "                        resp = value\n",
    "                    elif key == 'image_name':\n",
    "                        subject_info[os.path.basename(value)] = resp\n",
    "                    else:\n",
    "                        post_survey[key] = value\n",
    "\n",
    "                # If subjects include newline character in post-survey comments\n",
    "                else:\n",
    "                    value = item\n",
    "                    if resp and resp in post_survey:\n",
    "                        post_survey[last_key] += ' ' + value\n",
    "\n",
    "            subject_info.update(post_survey)\n",
    "            processed_data.append(subject_info)\n",
    "\n",
    "        df = pd.DataFrame(processed_data)\n",
    "        return df"
   ]
  },
  {
   "cell_type": "code",
   "execution_count": 9,
   "id": "ac4cec17-2153-4ad1-aa57-b2f380ccfd75",
   "metadata": {},
   "outputs": [],
   "source": [
    "def filter_subjects(df, attentioncheck):\n",
    "    \"\"\"\n",
    "    Filter out subjects from the DataFrame based on the attention check. \n",
    "    Also filters out test runs of the experiment (labeled 'TEST' in post-survey comments). \n",
    "    If attentioncheck is true, filter based on attention check; otherwise, just remove test runs. \n",
    "    \"\"\"\n",
    "\n",
    "    df['agents'] = pd.to_numeric(df['agents'], errors='coerce')\n",
    "    df['plates'] = pd.to_numeric(df['plates'], errors='coerce')\n",
    "    if attentioncheck:\n",
    "        filtered_df = df[(df['plates'] == 3) & (~df['comments'].str.contains(\"TEST\", na=False))] \n",
    "    else:\n",
    "        filtered_df = df[(~df['comments'].str.contains(\"TEST\", na=False))]\n",
    "    return filtered_df"
   ]
  },
  {
   "cell_type": "code",
   "execution_count": 12,
   "id": "e6630576-9a26-4958-ac5f-231786261b43",
   "metadata": {},
   "outputs": [],
   "source": [
    "filepath = '../rawdata/socloaf_expt2.csv'\n",
    "df = parseCSV(filepath)\n",
    "filtered_df = filter_subjects(df, attentioncheck=True)"
   ]
  },
  {
   "cell_type": "markdown",
   "id": "4b3c0d04-9983-49c0-a651-c5349dfc034a",
   "metadata": {},
   "source": [
    "# Building & fitting the mixed linear model"
   ]
  },
  {
   "cell_type": "code",
   "execution_count": 13,
   "id": "c20be14e-2959-45a8-a6f3-41c7997e01a7",
   "metadata": {},
   "outputs": [],
   "source": [
    "def effect_code_workload(image_name):\n",
    "    parts = image_name.split('_')\n",
    "    workload = parts[2] \n",
    "    if workload == '1':\n",
    "        return [1, 0]\n",
    "    elif workload == '4':\n",
    "        return [0, 0]\n",
    "    elif workload == '8':\n",
    "        return [0, 1]\n",
    "    else:\n",
    "        return [None, None]\n",
    "\n",
    "def effect_code_bottleneck(image_name):\n",
    "    if ('_1.png' in image_name):\n",
    "        return 0\n",
    "    elif ('_6.png' in image_name):\n",
    "        return 1\n",
    "    else:\n",
    "        return None\n",
    "\n",
    "def effect_code_groupsize(image_name):\n",
    "    if 'cartoon_2' in image_name:\n",
    "        return [1, 0]\n",
    "    elif 'cartoon_4' in image_name:\n",
    "        return [0, 0]\n",
    "    elif 'cartoon_6' in image_name:\n",
    "        return [0, 1]\n",
    "    else:\n",
    "        return [None, None]\n",
    "\n",
    "def decode_categories(row):\n",
    "    if row['x_1_1'] == 1 and row['x_1_2'] == 0:\n",
    "        row['workload'] = '1'\n",
    "    elif row['x_1_1'] == 0 and row['x_1_2'] == 1:\n",
    "        row['workload'] = '8'\n",
    "    elif row['x_1_1'] == 0 and row['x_1_2'] == 0:\n",
    "        row['workload'] = '4'\n",
    "\n",
    "    row['bottleneck'] = 'High' if row['x_3'] == 1 else 'Low'\n",
    "\n",
    "    if row['x_2_1'] == 1 and row['x_2_2'] == 0:\n",
    "        row['group_size'] = '2'\n",
    "    elif row['x_2_1'] == 0 and row['x_2_2'] == 1:\n",
    "        row['group_size'] = '6'\n",
    "    elif row['x_2_1'] == 0 and row['x_2_2'] == 0:\n",
    "        row['group_size'] = '4'\n",
    "\n",
    "    return row"
   ]
  },
  {
   "cell_type": "code",
   "execution_count": 14,
   "id": "c89fe345-08b4-4079-8b37-5de9271df379",
   "metadata": {},
   "outputs": [
    {
     "name": "stdout",
     "output_type": "stream",
     "text": [
      "          Mixed Linear Model Regression Results\n",
      "=========================================================\n",
      "Model:            MixedLM Dependent Variable: response   \n",
      "No. Observations: 9643    Method:             REML       \n",
      "No. Groups:       271     Scale:              3.9801     \n",
      "Min. group size:  22      Log-Likelihood:     -20804.0030\n",
      "Max. group size:  36      Converged:          Yes        \n",
      "Mean group size:  35.6                                   \n",
      "---------------------------------------------------------\n",
      "              Coef.  Std.Err.    z    P>|z| [0.025 0.975]\n",
      "---------------------------------------------------------\n",
      "Intercept      5.821    0.128  45.460 0.000  5.570  6.072\n",
      "x_1_1          1.430    0.100  14.358 0.000  1.234  1.625\n",
      "x_1_2         -0.230    0.100  -2.310 0.021 -0.425 -0.035\n",
      "x_2_1         -1.301    0.100 -13.056 0.000 -1.496 -1.106\n",
      "x_2_2          0.624    0.100   6.259 0.000  0.428  0.819\n",
      "x_3           -0.732    0.091  -8.053 0.000 -0.911 -0.554\n",
      "x_1_1:x_2_1    0.226    0.122   1.851 0.064 -0.013  0.465\n",
      "x_1_1:x_2_2   -0.329    0.122  -2.702 0.007 -0.568 -0.090\n",
      "x_1_2:x_2_1   -0.049    0.122  -0.402 0.687 -0.288  0.190\n",
      "x_1_2:x_2_2   -0.218    0.122  -1.788 0.074 -0.457  0.021\n",
      "x_2_1:x_3      0.308    0.100   3.094 0.002  0.113  0.503\n",
      "x_2_2:x_3      0.033    0.100   0.334 0.739 -0.162  0.228\n",
      "x_1_1:x_3      0.376    0.100   3.781 0.000  0.181  0.571\n",
      "x_1_2:x_3     -0.252    0.100  -2.534 0.011 -0.448 -0.057\n",
      "Group Var      2.872    0.131                            \n",
      "=========================================================\n",
      "\n"
     ]
    }
   ],
   "source": [
    "image_columns = [col for col in filtered_df.columns if col.endswith('.png')]\n",
    "long_df = pd.melt(filtered_df, id_vars=['worker'], value_vars=image_columns, var_name='image', value_name='resp')\n",
    "\n",
    "# Apply the effect coding functions\n",
    "long_df[['x_1_1', 'x_1_2']] = pd.DataFrame(long_df['image'].apply(effect_code_workload).tolist(), index=long_df.index)\n",
    "long_df[['x_2_1', 'x_2_2']] = pd.DataFrame(long_df['image'].apply(effect_code_groupsize).tolist(), index=long_df.index)\n",
    "long_df[['x_3']] = pd.DataFrame(long_df['image'].apply(effect_code_bottleneck).tolist(), index=long_df.index)\n",
    "\n",
    "long_df = long_df.dropna(subset=['x_3', 'x_2_1', 'x_2_2', 'x_1_1', 'x_1_2'])\n",
    "long_df['response'] = pd.to_numeric(long_df['resp'], errors='coerce')\n",
    "long_df = long_df.dropna(subset=['response'])\n",
    "\n",
    "model = smf.mixedlm(\"response ~ x_1_1 + x_1_2 + x_2_1 + x_2_2 + x_3 + x_1_1:x_2_1 + x_1_1:x_2_2 + x_1_2:x_2_1 + x_1_2:x_2_2 + x_2_1:x_3 + x_2_2:x_3 + x_1_1:x_3 + x_1_2:x_3\", long_df, groups=long_df[\"worker\"])\n",
    "result = model.fit()\n",
    "\n",
    "print(result.summary())"
   ]
  },
  {
   "cell_type": "markdown",
   "id": "c83035da-8180-447e-860d-f62d17e9614c",
   "metadata": {},
   "source": [
    "# Visualizi"
   ]
  }
 ],
 "metadata": {
  "kernelspec": {
   "display_name": "Python 3 (ipykernel)",
   "language": "python",
   "name": "python3"
  },
  "language_info": {
   "codemirror_mode": {
    "name": "ipython",
    "version": 3
   },
   "file_extension": ".py",
   "mimetype": "text/x-python",
   "name": "python",
   "nbconvert_exporter": "python",
   "pygments_lexer": "ipython3",
   "version": "3.12.0"
  }
 },
 "nbformat": 4,
 "nbformat_minor": 5
}
